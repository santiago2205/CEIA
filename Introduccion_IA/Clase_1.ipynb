{
 "cells": [
  {
   "cell_type": "code",
   "execution_count": 3,
   "metadata": {},
   "outputs": [
    {
     "name": "stdout",
     "output_type": "stream",
     "text": [
      "Ejercicio 1 Clase 1\n"
     ]
    }
   ],
   "source": [
    "print(\"Ejercicio 1 Clase 1\")\n",
    "import numpy as np\n",
    "\n",
    "def vector_norm_l0(matrix):\n",
    "    mask = matrix > 0\n",
    "    return np.sum(mask, axis=1)\n",
    "\n",
    "def vector_norm_l1(matrix):\n",
    "    abs_m = np.abs(matrix)\n",
    "    return np.sum(abs_m, axis=1)\n",
    "\n",
    "def vector_norm_l2(matrix):\n",
    "    return np.sqrt(np.sum(matrix ** 2, axis=2))\n",
    "\n",
    "def vector_norm_inf(m):\n",
    "    return np.max(m, axis=1)\n"
   ]
  },
  {
   "cell_type": "code",
   "execution_count": 10,
   "metadata": {},
   "outputs": [
    {
     "name": "stdout",
     "output_type": "stream",
     "text": [
      "Ejercicio 2 Clase 1\n"
     ]
    }
   ],
   "source": [
    "print(\"Ejercicio 2 Clase 1\")\n",
    "\n",
    "def sorting_vectors_by_norm_l2(matrix):\n",
    "    norm_l2 = vector_norm_l2(matrix)\n",
    "    print(norm_l2)\n",
    "    arg_sort = np.argsort(norm_l2 * -1)\n",
    "    print(arg_sort)\n",
    "    return matrix[arg_sort, :]\n"
   ]
  },
  {
   "cell_type": "code",
   "execution_count": 7,
   "metadata": {},
   "outputs": [
    {
     "name": "stdout",
     "output_type": "stream",
     "text": [
      "Ejercicio 3 Clase 1\n",
      "(5, True)\n",
      "(3, True)\n",
      "(-1, False)\n",
      "1\n",
      "14\n"
     ]
    }
   ],
   "source": [
    "print(\"Ejercicio 3 Clase 1\")\n",
    "\n",
    "class index(object):\n",
    "    def __init__(self, usr_id):\n",
    "        unique_id = np.unique(usr_id)\n",
    "        id2idx = np.ones(unique_id.max() + 1, dtype=np.int64) * -1\n",
    "        id2idx[unique_id] = np.arange(unique_id.size)\n",
    "        self.id2idx = id2idx\n",
    "        self.idx2id = unique_id\n",
    "    \n",
    "    def get_user_idx(self, ids):\n",
    "        ids = self.id2idx[ids]\n",
    "        return ids, ids != -1\n",
    "    \n",
    "    def get_user_id(self, idxs):\n",
    "        return self.idx2id[idxs]\n",
    "\n",
    "idxManager = index([15, 12, 14, 10, 1, 2, 1])\n",
    "\n",
    "print(idxManager.get_user_idx(15))\n",
    "print(idxManager.get_user_idx(12))\n",
    "print(idxManager.get_user_idx(3))\n",
    "\n",
    "print(idxManager.get_user_id(0))\n",
    "print(idxManager.get_user_id(4))"
   ]
  },
  {
   "cell_type": "code",
   "execution_count": 11,
   "metadata": {},
   "outputs": [
    {
     "name": "stdout",
     "output_type": "stream",
     "text": [
      "Ejercicio 4 Clase 1\n",
      "Precision: 0.5\n",
      "Recall: 0.5\n",
      "Accuracy: 0.4\n"
     ]
    }
   ],
   "source": [
    "print(\"Ejercicio 4 Clase 1\")\n",
    "\n",
    "truth = np.array([1,1,0,1,1,1,0,0,0,1])\n",
    "prediction = np.array([1,1,1,1,0,0,1,1,0,0])\n",
    "\n",
    "TP = np.sum((truth == True) & (prediction == True))\n",
    "TN = np.sum((truth == False) & (prediction == False))\n",
    "FN = np.sum((truth == True) & (prediction == False))\n",
    "FP = np.sum((truth == False) & (prediction == True))\n",
    "\n",
    "precision = TP / (TP + FP)\n",
    "recall = TP / (TP + FN)\n",
    "accuracy = (TP + TN) / (TP + TN + FP + FN)\n",
    "\n",
    "print(\"Precision: \" + str(precision))\n",
    "print(\"Recall: \" + str(recall))\n",
    "print(\"Accuracy: \" + str(accuracy))"
   ]
  },
  {
   "cell_type": "code",
   "execution_count": 6,
   "metadata": {},
   "outputs": [
    {
     "name": "stdout",
     "output_type": "stream",
     "text": [
      "Ejercicio 5 Clase 1\n",
      "None\n"
     ]
    }
   ],
   "source": [
    "print(\"Ejercicio 5 Clase 1\")\n",
    "\n",
    "def avg_q_precision(q_id, truth_relevance):\n",
    "    unic_id = np.unique(q_id)\n",
    "    \n",
    "    q_id_expanded = np.zeros((q_id.size, unic_id.size))\n",
    "    q_id_expanded = q_id_expanded + q_id[:,np.newaxis]\n",
    "    \n",
    "    truth_expanded = np.zeros((truth_relevance.size, unic_id.size))\n",
    "    truth_expanded = truth_expanded + truth_relevance[:, np.newaxis]\n",
    "    \n",
    "    numerators = np.sum((q_id_expanded == unic_id) & (truth_expanded == 1), axis = 0)\n",
    "    dividers = np.sum(q_id_expanded == unic_id, axis = 0)\n",
    "    avg_q = np.sum(numerators/dividers)/unic_id.size\n",
    "    \n",
    "    return avg_q\n",
    "\n",
    "qId = np.array([1, 1, 1, 1, 2, 2, 2, 3, 3, 3, 3, 3, 4, 4, 4, 4])\n",
    "truthRelevance = np.array([True, False, True, False, True, True, True, False, False, False, False, False, True, False, False, True])\n",
    "Test = np.testing.assert_equal(avg_q_precision(qId, truthRelevance), 0.5)"
   ]
  },
  {
   "cell_type": "code",
   "execution_count": 9,
   "metadata": {},
   "outputs": [
    {
     "name": "stdout",
     "output_type": "stream",
     "text": [
      "Ejercicio 6 Clase 1\n",
      "[[ 3.60555128  8.36660027 13.45362405]\n",
      " [ 2.44948974  7.54983444 12.72792206]]\n"
     ]
    }
   ],
   "source": [
    "print(\"Ejercicio 6 Clase 1\")\n",
    "\n",
    "vector_X = np.array([[1,2,3],[4,5,6],[7,8,9]])\n",
    "\n",
    "vector_C = np.array([[1,0,0],[0,1,1]])\n",
    "C_exp = vector_C[:, np.newaxis]\n",
    "\n",
    "diff = C_exp-vector_X\n",
    "\n",
    "distance = vector_norm_l2(diff)\n",
    "\n",
    "print(distance)"
   ]
  },
  {
   "cell_type": "code",
   "execution_count": 10,
   "metadata": {},
   "outputs": [
    {
     "name": "stdout",
     "output_type": "stream",
     "text": [
      "Ejercicio 7 Clase 1\n",
      "[1 1 1]\n"
     ]
    }
   ],
   "source": [
    "print(\"Ejercicio 7 Clase 1\")\n",
    "\n",
    "min_distance = np.argmin(distance, axis=0)\n",
    "\n",
    "print(min_distance)"
   ]
  },
  {
   "cell_type": "code",
   "execution_count": 11,
   "metadata": {},
   "outputs": [
    {
     "name": "stdout",
     "output_type": "stream",
     "text": [
      "Ejercicio 8 Clase 1\n"
     ]
    }
   ],
   "source": [
    "print(\"Ejercicio 8 Clase 1\")\n"
   ]
  },
  {
   "cell_type": "code",
   "execution_count": 12,
   "metadata": {},
   "outputs": [
    {
     "name": "stdout",
     "output_type": "stream",
     "text": [
      "Ejercicio 9 Clase 1\n"
     ]
    }
   ],
   "source": [
    "print(\"Ejercicio 9 Clase 1\")\n"
   ]
  },
  {
   "cell_type": "code",
   "execution_count": null,
   "metadata": {},
   "outputs": [],
   "source": [
    "print(\"Ejercicio 10 Clase 1\")\n"
   ]
  }
 ],
 "metadata": {
  "kernelspec": {
   "display_name": "Python 3",
   "language": "python",
   "name": "python3"
  },
  "language_info": {
   "codemirror_mode": {
    "name": "ipython",
    "version": 3
   },
   "file_extension": ".py",
   "mimetype": "text/x-python",
   "name": "python",
   "nbconvert_exporter": "python",
   "pygments_lexer": "ipython3",
   "version": "3.8.3"
  }
 },
 "nbformat": 4,
 "nbformat_minor": 4
}
